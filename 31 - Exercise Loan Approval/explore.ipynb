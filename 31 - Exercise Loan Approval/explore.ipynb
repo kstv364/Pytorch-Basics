{
 "cells": [
  {
   "cell_type": "code",
   "execution_count": 1,
   "metadata": {},
   "outputs": [
    {
     "data": {
      "application/vnd.microsoft.datawrangler.viewer.v0+json": {
       "columns": [
        {
         "name": "index",
         "rawType": "int64",
         "type": "integer"
        },
        {
         "name": "loan_status",
         "rawType": "int64",
         "type": "integer"
        },
        {
         "name": "person_income",
         "rawType": "float64",
         "type": "float"
        },
        {
         "name": "loan_intent",
         "rawType": "object",
         "type": "string"
        },
        {
         "name": "loan_percent_income",
         "rawType": "float64",
         "type": "float"
        },
        {
         "name": "credit_score",
         "rawType": "int64",
         "type": "integer"
        }
       ],
       "ref": "1574821f-5069-446b-88da-5ee7bf445822",
       "rows": [
        [
         "0",
         "1",
         "71948.0",
         "PERSONAL",
         "0.49",
         "561"
        ],
        [
         "1",
         "0",
         "12282.0",
         "EDUCATION",
         "0.08",
         "504"
        ],
        [
         "2",
         "1",
         "12438.0",
         "MEDICAL",
         "0.44",
         "635"
        ],
        [
         "3",
         "1",
         "79753.0",
         "MEDICAL",
         "0.44",
         "675"
        ],
        [
         "4",
         "1",
         "66135.0",
         "MEDICAL",
         "0.53",
         "586"
        ]
       ],
       "shape": {
        "columns": 5,
        "rows": 5
       }
      },
      "text/html": [
       "<div>\n",
       "<style scoped>\n",
       "    .dataframe tbody tr th:only-of-type {\n",
       "        vertical-align: middle;\n",
       "    }\n",
       "\n",
       "    .dataframe tbody tr th {\n",
       "        vertical-align: top;\n",
       "    }\n",
       "\n",
       "    .dataframe thead th {\n",
       "        text-align: right;\n",
       "    }\n",
       "</style>\n",
       "<table border=\"1\" class=\"dataframe\">\n",
       "  <thead>\n",
       "    <tr style=\"text-align: right;\">\n",
       "      <th></th>\n",
       "      <th>loan_status</th>\n",
       "      <th>person_income</th>\n",
       "      <th>loan_intent</th>\n",
       "      <th>loan_percent_income</th>\n",
       "      <th>credit_score</th>\n",
       "    </tr>\n",
       "  </thead>\n",
       "  <tbody>\n",
       "    <tr>\n",
       "      <th>0</th>\n",
       "      <td>1</td>\n",
       "      <td>71948.0</td>\n",
       "      <td>PERSONAL</td>\n",
       "      <td>0.49</td>\n",
       "      <td>561</td>\n",
       "    </tr>\n",
       "    <tr>\n",
       "      <th>1</th>\n",
       "      <td>0</td>\n",
       "      <td>12282.0</td>\n",
       "      <td>EDUCATION</td>\n",
       "      <td>0.08</td>\n",
       "      <td>504</td>\n",
       "    </tr>\n",
       "    <tr>\n",
       "      <th>2</th>\n",
       "      <td>1</td>\n",
       "      <td>12438.0</td>\n",
       "      <td>MEDICAL</td>\n",
       "      <td>0.44</td>\n",
       "      <td>635</td>\n",
       "    </tr>\n",
       "    <tr>\n",
       "      <th>3</th>\n",
       "      <td>1</td>\n",
       "      <td>79753.0</td>\n",
       "      <td>MEDICAL</td>\n",
       "      <td>0.44</td>\n",
       "      <td>675</td>\n",
       "    </tr>\n",
       "    <tr>\n",
       "      <th>4</th>\n",
       "      <td>1</td>\n",
       "      <td>66135.0</td>\n",
       "      <td>MEDICAL</td>\n",
       "      <td>0.53</td>\n",
       "      <td>586</td>\n",
       "    </tr>\n",
       "  </tbody>\n",
       "</table>\n",
       "</div>"
      ],
      "text/plain": [
       "   loan_status  person_income loan_intent  loan_percent_income  credit_score\n",
       "0            1        71948.0    PERSONAL                 0.49           561\n",
       "1            0        12282.0   EDUCATION                 0.08           504\n",
       "2            1        12438.0     MEDICAL                 0.44           635\n",
       "3            1        79753.0     MEDICAL                 0.44           675\n",
       "4            1        66135.0     MEDICAL                 0.53           586"
      ]
     },
     "execution_count": 1,
     "metadata": {},
     "output_type": "execute_result"
    }
   ],
   "source": [
    "import pandas as pd\n",
    "\n",
    "df = pd.read_csv(\"data/loan_data.csv\")\n",
    "df = df[[\"loan_status\", \"person_income\", \"loan_intent\", \"loan_percent_income\", \"credit_score\"]]\n",
    "df.head()"
   ]
  },
  {
   "cell_type": "code",
   "execution_count": 2,
   "metadata": {},
   "outputs": [
    {
     "data": {
      "application/vnd.microsoft.datawrangler.viewer.v0+json": {
       "columns": [
        {
         "name": "loan_status",
         "rawType": "int64",
         "type": "integer"
        },
        {
         "name": "('person_income', 'mean')",
         "rawType": "float64",
         "type": "float"
        },
        {
         "name": "('person_income', 'min')",
         "rawType": "float64",
         "type": "float"
        },
        {
         "name": "('person_income', 'max')",
         "rawType": "float64",
         "type": "float"
        },
        {
         "name": "('credit_score', 'mean')",
         "rawType": "float64",
         "type": "float"
        },
        {
         "name": "('credit_score', 'min')",
         "rawType": "int64",
         "type": "integer"
        },
        {
         "name": "('credit_score', 'max')",
         "rawType": "int64",
         "type": "integer"
        },
        {
         "name": "('loan_percent_income', 'mean')",
         "rawType": "float64",
         "type": "float"
        },
        {
         "name": "('loan_percent_income', 'min')",
         "rawType": "float64",
         "type": "float"
        },
        {
         "name": "('loan_percent_income', 'max')",
         "rawType": "float64",
         "type": "float"
        }
       ],
       "ref": "bc00ee6f-6686-424d-b8fa-606173e60658",
       "rows": [
        [
         "0",
         "86157.04074285715",
         "9595.0",
         "7200766.0",
         "632.8149142857143",
         "390",
         "850",
         "0.12178314285714285",
         "0.0",
         "0.66"
        ],
        [
         "1",
         "59886.0969",
         "8000.0",
         "845636.0",
         "631.8872",
         "431",
         "767",
         "0.202521",
         "0.0",
         "0.62"
        ]
       ],
       "shape": {
        "columns": 9,
        "rows": 2
       }
      },
      "text/html": [
       "<div>\n",
       "<style scoped>\n",
       "    .dataframe tbody tr th:only-of-type {\n",
       "        vertical-align: middle;\n",
       "    }\n",
       "\n",
       "    .dataframe tbody tr th {\n",
       "        vertical-align: top;\n",
       "    }\n",
       "\n",
       "    .dataframe thead tr th {\n",
       "        text-align: left;\n",
       "    }\n",
       "\n",
       "    .dataframe thead tr:last-of-type th {\n",
       "        text-align: right;\n",
       "    }\n",
       "</style>\n",
       "<table border=\"1\" class=\"dataframe\">\n",
       "  <thead>\n",
       "    <tr>\n",
       "      <th></th>\n",
       "      <th colspan=\"3\" halign=\"left\">person_income</th>\n",
       "      <th colspan=\"3\" halign=\"left\">credit_score</th>\n",
       "      <th colspan=\"3\" halign=\"left\">loan_percent_income</th>\n",
       "    </tr>\n",
       "    <tr>\n",
       "      <th></th>\n",
       "      <th>mean</th>\n",
       "      <th>min</th>\n",
       "      <th>max</th>\n",
       "      <th>mean</th>\n",
       "      <th>min</th>\n",
       "      <th>max</th>\n",
       "      <th>mean</th>\n",
       "      <th>min</th>\n",
       "      <th>max</th>\n",
       "    </tr>\n",
       "    <tr>\n",
       "      <th>loan_status</th>\n",
       "      <th></th>\n",
       "      <th></th>\n",
       "      <th></th>\n",
       "      <th></th>\n",
       "      <th></th>\n",
       "      <th></th>\n",
       "      <th></th>\n",
       "      <th></th>\n",
       "      <th></th>\n",
       "    </tr>\n",
       "  </thead>\n",
       "  <tbody>\n",
       "    <tr>\n",
       "      <th>0</th>\n",
       "      <td>86157.040743</td>\n",
       "      <td>9595.0</td>\n",
       "      <td>7200766.0</td>\n",
       "      <td>632.814914</td>\n",
       "      <td>390</td>\n",
       "      <td>850</td>\n",
       "      <td>0.121783</td>\n",
       "      <td>0.0</td>\n",
       "      <td>0.66</td>\n",
       "    </tr>\n",
       "    <tr>\n",
       "      <th>1</th>\n",
       "      <td>59886.096900</td>\n",
       "      <td>8000.0</td>\n",
       "      <td>845636.0</td>\n",
       "      <td>631.887200</td>\n",
       "      <td>431</td>\n",
       "      <td>767</td>\n",
       "      <td>0.202521</td>\n",
       "      <td>0.0</td>\n",
       "      <td>0.62</td>\n",
       "    </tr>\n",
       "  </tbody>\n",
       "</table>\n",
       "</div>"
      ],
      "text/plain": [
       "            person_income                    credit_score            \\\n",
       "                     mean     min        max         mean  min  max   \n",
       "loan_status                                                           \n",
       "0            86157.040743  9595.0  7200766.0   632.814914  390  850   \n",
       "1            59886.096900  8000.0   845636.0   631.887200  431  767   \n",
       "\n",
       "            loan_percent_income             \n",
       "                           mean  min   max  \n",
       "loan_status                                 \n",
       "0                      0.121783  0.0  0.66  \n",
       "1                      0.202521  0.0  0.62  "
      ]
     },
     "execution_count": 2,
     "metadata": {},
     "output_type": "execute_result"
    }
   ],
   "source": [
    "df.groupby(\"loan_status\").agg({\n",
    "    \"person_income\": [\"mean\", \"min\", \"max\"],\n",
    "    \"credit_score\": [\"mean\", \"min\", \"max\"],\n",
    "    \"loan_percent_income\": [\"mean\", \"min\", \"max\"]\n",
    "})"
   ]
  },
  {
   "cell_type": "code",
   "execution_count": 3,
   "metadata": {},
   "outputs": [
    {
     "data": {
      "application/vnd.microsoft.datawrangler.viewer.v0+json": {
       "columns": [
        {
         "name": "loan_intent",
         "rawType": "object",
         "type": "string"
        },
        {
         "name": "('loan_status', 'mean')",
         "rawType": "float64",
         "type": "float"
        }
       ],
       "ref": "e60788a3-2c0e-4021-a917-d84b1a553bcf",
       "rows": [
        [
         "DEBTCONSOLIDATION",
         "0.3027291812456263"
        ],
        [
         "EDUCATION",
         "0.16956189227575658"
        ],
        [
         "HOMEIMPROVEMENT",
         "0.2630148442400167"
        ],
        [
         "MEDICAL",
         "0.2781937295273748"
        ],
        [
         "PERSONAL",
         "0.20140360169491525"
        ],
        [
         "VENTURE",
         "0.144263972374984"
        ]
       ],
       "shape": {
        "columns": 1,
        "rows": 6
       }
      },
      "text/html": [
       "<div>\n",
       "<style scoped>\n",
       "    .dataframe tbody tr th:only-of-type {\n",
       "        vertical-align: middle;\n",
       "    }\n",
       "\n",
       "    .dataframe tbody tr th {\n",
       "        vertical-align: top;\n",
       "    }\n",
       "\n",
       "    .dataframe thead tr th {\n",
       "        text-align: left;\n",
       "    }\n",
       "\n",
       "    .dataframe thead tr:last-of-type th {\n",
       "        text-align: right;\n",
       "    }\n",
       "</style>\n",
       "<table border=\"1\" class=\"dataframe\">\n",
       "  <thead>\n",
       "    <tr>\n",
       "      <th></th>\n",
       "      <th>loan_status</th>\n",
       "    </tr>\n",
       "    <tr>\n",
       "      <th></th>\n",
       "      <th>mean</th>\n",
       "    </tr>\n",
       "    <tr>\n",
       "      <th>loan_intent</th>\n",
       "      <th></th>\n",
       "    </tr>\n",
       "  </thead>\n",
       "  <tbody>\n",
       "    <tr>\n",
       "      <th>DEBTCONSOLIDATION</th>\n",
       "      <td>0.302729</td>\n",
       "    </tr>\n",
       "    <tr>\n",
       "      <th>EDUCATION</th>\n",
       "      <td>0.169562</td>\n",
       "    </tr>\n",
       "    <tr>\n",
       "      <th>HOMEIMPROVEMENT</th>\n",
       "      <td>0.263015</td>\n",
       "    </tr>\n",
       "    <tr>\n",
       "      <th>MEDICAL</th>\n",
       "      <td>0.278194</td>\n",
       "    </tr>\n",
       "    <tr>\n",
       "      <th>PERSONAL</th>\n",
       "      <td>0.201404</td>\n",
       "    </tr>\n",
       "    <tr>\n",
       "      <th>VENTURE</th>\n",
       "      <td>0.144264</td>\n",
       "    </tr>\n",
       "  </tbody>\n",
       "</table>\n",
       "</div>"
      ],
      "text/plain": [
       "                  loan_status\n",
       "                         mean\n",
       "loan_intent                  \n",
       "DEBTCONSOLIDATION    0.302729\n",
       "EDUCATION            0.169562\n",
       "HOMEIMPROVEMENT      0.263015\n",
       "MEDICAL              0.278194\n",
       "PERSONAL             0.201404\n",
       "VENTURE              0.144264"
      ]
     },
     "execution_count": 3,
     "metadata": {},
     "output_type": "execute_result"
    }
   ],
   "source": [
    "df.groupby(\"loan_intent\").agg({\n",
    "    \"loan_status\": [\"mean\"]\n",
    "})"
   ]
  },
  {
   "cell_type": "code",
   "execution_count": null,
   "metadata": {},
   "outputs": [],
   "source": []
  }
 ],
 "metadata": {
  "kernelspec": {
   "display_name": "pytorch",
   "language": "python",
   "name": "python3"
  },
  "language_info": {
   "codemirror_mode": {
    "name": "ipython",
    "version": 3
   },
   "file_extension": ".py",
   "mimetype": "text/x-python",
   "name": "python",
   "nbconvert_exporter": "python",
   "pygments_lexer": "ipython3",
   "version": "3.11.13"
  }
 },
 "nbformat": 4,
 "nbformat_minor": 2
}
