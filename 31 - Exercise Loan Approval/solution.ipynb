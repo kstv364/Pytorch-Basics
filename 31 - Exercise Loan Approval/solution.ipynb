{
 "cells": [
  {
   "cell_type": "code",
   "execution_count": 1,
   "id": "2be00b07",
   "metadata": {},
   "outputs": [
    {
     "data": {
      "application/vnd.microsoft.datawrangler.viewer.v0+json": {
       "columns": [
        {
         "name": "index",
         "rawType": "int64",
         "type": "integer"
        },
        {
         "name": "loan_status",
         "rawType": "int64",
         "type": "integer"
        },
        {
         "name": "person_income",
         "rawType": "float64",
         "type": "float"
        },
        {
         "name": "loan_percent_income",
         "rawType": "float64",
         "type": "float"
        },
        {
         "name": "credit_score",
         "rawType": "int64",
         "type": "integer"
        },
        {
         "name": "loan_intent_DEBTCONSOLIDATION",
         "rawType": "bool",
         "type": "boolean"
        },
        {
         "name": "loan_intent_EDUCATION",
         "rawType": "bool",
         "type": "boolean"
        },
        {
         "name": "loan_intent_HOMEIMPROVEMENT",
         "rawType": "bool",
         "type": "boolean"
        },
        {
         "name": "loan_intent_MEDICAL",
         "rawType": "bool",
         "type": "boolean"
        },
        {
         "name": "loan_intent_PERSONAL",
         "rawType": "bool",
         "type": "boolean"
        },
        {
         "name": "loan_intent_VENTURE",
         "rawType": "bool",
         "type": "boolean"
        }
       ],
       "ref": "2ee7cac5-6cc3-4f1c-ab7b-38a13a08a026",
       "rows": [
        [
         "0",
         "1",
         "71948.0",
         "0.49",
         "561",
         "False",
         "False",
         "False",
         "False",
         "True",
         "False"
        ],
        [
         "1",
         "0",
         "12282.0",
         "0.08",
         "504",
         "False",
         "True",
         "False",
         "False",
         "False",
         "False"
        ],
        [
         "2",
         "1",
         "12438.0",
         "0.44",
         "635",
         "False",
         "False",
         "False",
         "True",
         "False",
         "False"
        ],
        [
         "3",
         "1",
         "79753.0",
         "0.44",
         "675",
         "False",
         "False",
         "False",
         "True",
         "False",
         "False"
        ],
        [
         "4",
         "1",
         "66135.0",
         "0.53",
         "586",
         "False",
         "False",
         "False",
         "True",
         "False",
         "False"
        ]
       ],
       "shape": {
        "columns": 10,
        "rows": 5
       }
      },
      "text/html": [
       "<div>\n",
       "<style scoped>\n",
       "    .dataframe tbody tr th:only-of-type {\n",
       "        vertical-align: middle;\n",
       "    }\n",
       "\n",
       "    .dataframe tbody tr th {\n",
       "        vertical-align: top;\n",
       "    }\n",
       "\n",
       "    .dataframe thead th {\n",
       "        text-align: right;\n",
       "    }\n",
       "</style>\n",
       "<table border=\"1\" class=\"dataframe\">\n",
       "  <thead>\n",
       "    <tr style=\"text-align: right;\">\n",
       "      <th></th>\n",
       "      <th>loan_status</th>\n",
       "      <th>person_income</th>\n",
       "      <th>loan_percent_income</th>\n",
       "      <th>credit_score</th>\n",
       "      <th>loan_intent_DEBTCONSOLIDATION</th>\n",
       "      <th>loan_intent_EDUCATION</th>\n",
       "      <th>loan_intent_HOMEIMPROVEMENT</th>\n",
       "      <th>loan_intent_MEDICAL</th>\n",
       "      <th>loan_intent_PERSONAL</th>\n",
       "      <th>loan_intent_VENTURE</th>\n",
       "    </tr>\n",
       "  </thead>\n",
       "  <tbody>\n",
       "    <tr>\n",
       "      <th>0</th>\n",
       "      <td>1</td>\n",
       "      <td>71948.0</td>\n",
       "      <td>0.49</td>\n",
       "      <td>561</td>\n",
       "      <td>False</td>\n",
       "      <td>False</td>\n",
       "      <td>False</td>\n",
       "      <td>False</td>\n",
       "      <td>True</td>\n",
       "      <td>False</td>\n",
       "    </tr>\n",
       "    <tr>\n",
       "      <th>1</th>\n",
       "      <td>0</td>\n",
       "      <td>12282.0</td>\n",
       "      <td>0.08</td>\n",
       "      <td>504</td>\n",
       "      <td>False</td>\n",
       "      <td>True</td>\n",
       "      <td>False</td>\n",
       "      <td>False</td>\n",
       "      <td>False</td>\n",
       "      <td>False</td>\n",
       "    </tr>\n",
       "    <tr>\n",
       "      <th>2</th>\n",
       "      <td>1</td>\n",
       "      <td>12438.0</td>\n",
       "      <td>0.44</td>\n",
       "      <td>635</td>\n",
       "      <td>False</td>\n",
       "      <td>False</td>\n",
       "      <td>False</td>\n",
       "      <td>True</td>\n",
       "      <td>False</td>\n",
       "      <td>False</td>\n",
       "    </tr>\n",
       "    <tr>\n",
       "      <th>3</th>\n",
       "      <td>1</td>\n",
       "      <td>79753.0</td>\n",
       "      <td>0.44</td>\n",
       "      <td>675</td>\n",
       "      <td>False</td>\n",
       "      <td>False</td>\n",
       "      <td>False</td>\n",
       "      <td>True</td>\n",
       "      <td>False</td>\n",
       "      <td>False</td>\n",
       "    </tr>\n",
       "    <tr>\n",
       "      <th>4</th>\n",
       "      <td>1</td>\n",
       "      <td>66135.0</td>\n",
       "      <td>0.53</td>\n",
       "      <td>586</td>\n",
       "      <td>False</td>\n",
       "      <td>False</td>\n",
       "      <td>False</td>\n",
       "      <td>True</td>\n",
       "      <td>False</td>\n",
       "      <td>False</td>\n",
       "    </tr>\n",
       "  </tbody>\n",
       "</table>\n",
       "</div>"
      ],
      "text/plain": [
       "   loan_status  person_income  loan_percent_income  credit_score  \\\n",
       "0            1        71948.0                 0.49           561   \n",
       "1            0        12282.0                 0.08           504   \n",
       "2            1        12438.0                 0.44           635   \n",
       "3            1        79753.0                 0.44           675   \n",
       "4            1        66135.0                 0.53           586   \n",
       "\n",
       "   loan_intent_DEBTCONSOLIDATION  loan_intent_EDUCATION  \\\n",
       "0                          False                  False   \n",
       "1                          False                   True   \n",
       "2                          False                  False   \n",
       "3                          False                  False   \n",
       "4                          False                  False   \n",
       "\n",
       "   loan_intent_HOMEIMPROVEMENT  loan_intent_MEDICAL  loan_intent_PERSONAL  \\\n",
       "0                        False                False                  True   \n",
       "1                        False                False                 False   \n",
       "2                        False                 True                 False   \n",
       "3                        False                 True                 False   \n",
       "4                        False                 True                 False   \n",
       "\n",
       "   loan_intent_VENTURE  \n",
       "0                False  \n",
       "1                False  \n",
       "2                False  \n",
       "3                False  \n",
       "4                False  "
      ]
     },
     "execution_count": 1,
     "metadata": {},
     "output_type": "execute_result"
    }
   ],
   "source": [
    "import sys\n",
    "import torch\n",
    "from torch import nn\n",
    "import pandas as pd\n",
    "\n",
    "df = pd.read_csv(\"data/loan_data.csv\")\n",
    "df = df[[\"loan_status\", \"person_income\", \"loan_intent\", \"loan_percent_income\", \"credit_score\"]]\n",
    "df = pd.get_dummies(df, columns=[\"loan_intent\"])\n",
    "df.head()"
   ]
  },
  {
   "cell_type": "code",
   "execution_count": 2,
   "id": "bbced6f2",
   "metadata": {},
   "outputs": [
    {
     "data": {
      "application/vnd.microsoft.datawrangler.viewer.v0+json": {
       "columns": [
        {
         "name": "index",
         "rawType": "int64",
         "type": "integer"
        },
        {
         "name": "loan_status",
         "rawType": "int64",
         "type": "integer"
        }
       ],
       "ref": "ebd203c6-012c-4807-9c0e-3e51127eecb6",
       "rows": [
        [
         "0",
         "1"
        ],
        [
         "1",
         "0"
        ],
        [
         "2",
         "1"
        ],
        [
         "3",
         "1"
        ],
        [
         "4",
         "1"
        ],
        [
         "5",
         "1"
        ],
        [
         "6",
         "1"
        ],
        [
         "7",
         "1"
        ],
        [
         "8",
         "1"
        ],
        [
         "9",
         "1"
        ],
        [
         "10",
         "1"
        ],
        [
         "11",
         "1"
        ],
        [
         "12",
         "1"
        ],
        [
         "13",
         "1"
        ],
        [
         "14",
         "0"
        ],
        [
         "15",
         "0"
        ],
        [
         "16",
         "0"
        ],
        [
         "17",
         "1"
        ],
        [
         "18",
         "1"
        ],
        [
         "19",
         "1"
        ],
        [
         "20",
         "0"
        ],
        [
         "21",
         "0"
        ],
        [
         "22",
         "1"
        ],
        [
         "23",
         "0"
        ],
        [
         "24",
         "1"
        ],
        [
         "25",
         "1"
        ],
        [
         "26",
         "1"
        ],
        [
         "27",
         "0"
        ],
        [
         "28",
         "1"
        ],
        [
         "29",
         "1"
        ],
        [
         "30",
         "1"
        ],
        [
         "31",
         "0"
        ],
        [
         "32",
         "1"
        ],
        [
         "33",
         "0"
        ],
        [
         "34",
         "0"
        ],
        [
         "35",
         "1"
        ],
        [
         "36",
         "1"
        ],
        [
         "37",
         "1"
        ],
        [
         "38",
         "1"
        ],
        [
         "39",
         "1"
        ],
        [
         "40",
         "1"
        ],
        [
         "41",
         "1"
        ],
        [
         "42",
         "0"
        ],
        [
         "43",
         "0"
        ],
        [
         "44",
         "0"
        ],
        [
         "45",
         "0"
        ],
        [
         "46",
         "0"
        ],
        [
         "47",
         "1"
        ],
        [
         "48",
         "1"
        ],
        [
         "49",
         "1"
        ]
       ],
       "shape": {
        "columns": 1,
        "rows": 45000
       }
      },
      "text/plain": [
       "0        1\n",
       "1        0\n",
       "2        1\n",
       "3        1\n",
       "4        1\n",
       "        ..\n",
       "44995    1\n",
       "44996    1\n",
       "44997    1\n",
       "44998    1\n",
       "44999    1\n",
       "Name: loan_status, Length: 45000, dtype: int64"
      ]
     },
     "execution_count": 2,
     "metadata": {},
     "output_type": "execute_result"
    }
   ],
   "source": [
    "df[\"loan_status\"]"
   ]
  },
  {
   "cell_type": "code",
   "execution_count": 5,
   "id": "ee912c9d",
   "metadata": {},
   "outputs": [
    {
     "data": {
      "text/plain": [
       "tensor([[1.],\n",
       "        [0.],\n",
       "        [1.],\n",
       "        ...,\n",
       "        [1.],\n",
       "        [1.],\n",
       "        [1.]])"
      ]
     },
     "execution_count": 5,
     "metadata": {},
     "output_type": "execute_result"
    }
   ],
   "source": [
    "\n",
    "y = torch.tensor(df[\"loan_status\"], dtype=torch.float32).reshape((-1, 1))\n",
    "y"
   ]
  },
  {
   "cell_type": "code",
   "execution_count": 7,
   "id": "f7097a8b",
   "metadata": {},
   "outputs": [
    {
     "data": {
      "application/vnd.microsoft.datawrangler.viewer.v0+json": {
       "columns": [
        {
         "name": "index",
         "rawType": "int64",
         "type": "integer"
        },
        {
         "name": "person_income",
         "rawType": "float64",
         "type": "float"
        },
        {
         "name": "loan_percent_income",
         "rawType": "float64",
         "type": "float"
        },
        {
         "name": "credit_score",
         "rawType": "int64",
         "type": "integer"
        },
        {
         "name": "loan_intent_DEBTCONSOLIDATION",
         "rawType": "bool",
         "type": "boolean"
        },
        {
         "name": "loan_intent_EDUCATION",
         "rawType": "bool",
         "type": "boolean"
        },
        {
         "name": "loan_intent_HOMEIMPROVEMENT",
         "rawType": "bool",
         "type": "boolean"
        },
        {
         "name": "loan_intent_MEDICAL",
         "rawType": "bool",
         "type": "boolean"
        },
        {
         "name": "loan_intent_PERSONAL",
         "rawType": "bool",
         "type": "boolean"
        },
        {
         "name": "loan_intent_VENTURE",
         "rawType": "bool",
         "type": "boolean"
        }
       ],
       "ref": "bb37bd50-a20f-4a25-8ac0-dfa869e18e1b",
       "rows": [
        [
         "0",
         "71948.0",
         "0.49",
         "561",
         "False",
         "False",
         "False",
         "False",
         "True",
         "False"
        ],
        [
         "1",
         "12282.0",
         "0.08",
         "504",
         "False",
         "True",
         "False",
         "False",
         "False",
         "False"
        ],
        [
         "2",
         "12438.0",
         "0.44",
         "635",
         "False",
         "False",
         "False",
         "True",
         "False",
         "False"
        ],
        [
         "3",
         "79753.0",
         "0.44",
         "675",
         "False",
         "False",
         "False",
         "True",
         "False",
         "False"
        ],
        [
         "4",
         "66135.0",
         "0.53",
         "586",
         "False",
         "False",
         "False",
         "True",
         "False",
         "False"
        ],
        [
         "5",
         "12951.0",
         "0.19",
         "532",
         "False",
         "False",
         "False",
         "False",
         "False",
         "True"
        ],
        [
         "6",
         "93471.0",
         "0.37",
         "701",
         "False",
         "True",
         "False",
         "False",
         "False",
         "False"
        ],
        [
         "7",
         "95550.0",
         "0.37",
         "585",
         "False",
         "False",
         "False",
         "True",
         "False",
         "False"
        ],
        [
         "8",
         "100684.0",
         "0.35",
         "544",
         "False",
         "False",
         "False",
         "False",
         "True",
         "False"
        ],
        [
         "9",
         "12739.0",
         "0.13",
         "640",
         "False",
         "False",
         "False",
         "False",
         "False",
         "True"
        ],
        [
         "10",
         "102985.0",
         "0.34",
         "621",
         "False",
         "False",
         "False",
         "False",
         "False",
         "True"
        ],
        [
         "11",
         "13113.0",
         "0.34",
         "651",
         "False",
         "False",
         "True",
         "False",
         "False",
         "False"
        ],
        [
         "12",
         "114860.0",
         "0.3",
         "573",
         "False",
         "False",
         "False",
         "False",
         "False",
         "True"
        ],
        [
         "13",
         "130713.0",
         "0.27",
         "708",
         "False",
         "True",
         "False",
         "False",
         "False",
         "False"
        ],
        [
         "14",
         "138998.0",
         "0.25",
         "583",
         "False",
         "True",
         "False",
         "False",
         "False",
         "False"
        ],
        [
         "15",
         "600891.0",
         "0.05",
         "670",
         "True",
         "False",
         "False",
         "False",
         "False",
         "False"
        ],
        [
         "16",
         "144943.0",
         "0.24",
         "663",
         "False",
         "True",
         "False",
         "False",
         "False",
         "False"
        ],
        [
         "17",
         "111369.0",
         "0.31",
         "694",
         "False",
         "False",
         "False",
         "True",
         "False",
         "False"
        ],
        [
         "18",
         "136628.0",
         "0.26",
         "709",
         "True",
         "False",
         "False",
         "False",
         "False",
         "False"
        ],
        [
         "19",
         "14283.0",
         "0.12",
         "679",
         "False",
         "True",
         "False",
         "False",
         "False",
         "False"
        ],
        [
         "20",
         "195718.0",
         "0.18",
         "684",
         "False",
         "False",
         "False",
         "False",
         "False",
         "True"
        ],
        [
         "21",
         "165792.0",
         "0.21",
         "662",
         "False",
         "False",
         "False",
         "False",
         "True",
         "False"
        ],
        [
         "22",
         "79255.0",
         "0.43",
         "691",
         "False",
         "True",
         "False",
         "False",
         "False",
         "False"
        ],
        [
         "23",
         "13866.0",
         "0.11",
         "600",
         "False",
         "False",
         "False",
         "False",
         "True",
         "False"
        ],
        [
         "24",
         "97420.0",
         "0.35",
         "691",
         "False",
         "False",
         "False",
         "False",
         "True",
         "False"
        ],
        [
         "25",
         "82443.0",
         "0.4",
         "654",
         "False",
         "False",
         "True",
         "False",
         "False",
         "False"
        ],
        [
         "26",
         "14288.0",
         "0.32",
         "626",
         "False",
         "False",
         "False",
         "False",
         "False",
         "True"
        ],
        [
         "27",
         "14293.0",
         "0.1",
         "607",
         "False",
         "False",
         "False",
         "False",
         "True",
         "False"
        ],
        [
         "28",
         "79054.0",
         "0.41",
         "700",
         "False",
         "False",
         "True",
         "False",
         "False",
         "False"
        ],
        [
         "29",
         "14988.0",
         "0.27",
         "553",
         "False",
         "True",
         "False",
         "False",
         "False",
         "False"
        ],
        [
         "30",
         "14858.0",
         "0.13",
         "589",
         "False",
         "False",
         "False",
         "True",
         "False",
         "False"
        ],
        [
         "31",
         "144855.0",
         "0.22",
         "586",
         "False",
         "False",
         "False",
         "False",
         "False",
         "True"
        ],
        [
         "32",
         "114645.0",
         "0.27",
         "681",
         "False",
         "False",
         "True",
         "False",
         "False",
         "False"
        ],
        [
         "33",
         "368115.0",
         "0.07",
         "567",
         "True",
         "False",
         "False",
         "False",
         "False",
         "False"
        ],
        [
         "34",
         "361076.0",
         "0.02",
         "669",
         "False",
         "False",
         "False",
         "True",
         "False",
         "False"
        ],
        [
         "35",
         "15150.0",
         "0.17",
         "600",
         "False",
         "True",
         "False",
         "False",
         "False",
         "False"
        ],
        [
         "36",
         "58868.0",
         "0.51",
         "606",
         "False",
         "True",
         "False",
         "False",
         "False",
         "False"
        ],
        [
         "37",
         "78026.0",
         "0.38",
         "582",
         "True",
         "False",
         "False",
         "False",
         "False",
         "False"
        ],
        [
         "38",
         "90785.0",
         "0.33",
         "649",
         "False",
         "False",
         "True",
         "False",
         "False",
         "False"
        ],
        [
         "39",
         "86811.0",
         "0.35",
         "602",
         "True",
         "False",
         "False",
         "False",
         "False",
         "False"
        ],
        [
         "40",
         "75503.0",
         "0.4",
         "616",
         "False",
         "False",
         "False",
         "True",
         "False",
         "False"
        ],
        [
         "41",
         "15082.0",
         "0.17",
         "631",
         "False",
         "False",
         "False",
         "False",
         "False",
         "True"
        ],
        [
         "42",
         "361293.0",
         "0.06",
         "684",
         "False",
         "False",
         "False",
         "False",
         "False",
         "True"
        ],
        [
         "43",
         "361547.0",
         "0.07",
         "637",
         "False",
         "True",
         "False",
         "False",
         "False",
         "False"
        ],
        [
         "44",
         "360680.0",
         "0.03",
         "649",
         "False",
         "False",
         "True",
         "False",
         "False",
         "False"
        ],
        [
         "45",
         "360977.0",
         "0.07",
         "695",
         "False",
         "True",
         "False",
         "False",
         "False",
         "False"
        ],
        [
         "46",
         "361244.0",
         "0.05",
         "620",
         "False",
         "False",
         "True",
         "False",
         "False",
         "False"
        ],
        [
         "47",
         "98230.0",
         "0.31",
         "622",
         "False",
         "False",
         "False",
         "False",
         "True",
         "False"
        ],
        [
         "48",
         "80838.0",
         "0.37",
         "645",
         "False",
         "False",
         "False",
         "True",
         "False",
         "False"
        ],
        [
         "49",
         "107957.0",
         "0.28",
         "654",
         "True",
         "False",
         "False",
         "False",
         "False",
         "False"
        ]
       ],
       "shape": {
        "columns": 9,
        "rows": 45000
       }
      },
      "text/html": [
       "<div>\n",
       "<style scoped>\n",
       "    .dataframe tbody tr th:only-of-type {\n",
       "        vertical-align: middle;\n",
       "    }\n",
       "\n",
       "    .dataframe tbody tr th {\n",
       "        vertical-align: top;\n",
       "    }\n",
       "\n",
       "    .dataframe thead th {\n",
       "        text-align: right;\n",
       "    }\n",
       "</style>\n",
       "<table border=\"1\" class=\"dataframe\">\n",
       "  <thead>\n",
       "    <tr style=\"text-align: right;\">\n",
       "      <th></th>\n",
       "      <th>person_income</th>\n",
       "      <th>loan_percent_income</th>\n",
       "      <th>credit_score</th>\n",
       "      <th>loan_intent_DEBTCONSOLIDATION</th>\n",
       "      <th>loan_intent_EDUCATION</th>\n",
       "      <th>loan_intent_HOMEIMPROVEMENT</th>\n",
       "      <th>loan_intent_MEDICAL</th>\n",
       "      <th>loan_intent_PERSONAL</th>\n",
       "      <th>loan_intent_VENTURE</th>\n",
       "    </tr>\n",
       "  </thead>\n",
       "  <tbody>\n",
       "    <tr>\n",
       "      <th>0</th>\n",
       "      <td>71948.0</td>\n",
       "      <td>0.49</td>\n",
       "      <td>561</td>\n",
       "      <td>False</td>\n",
       "      <td>False</td>\n",
       "      <td>False</td>\n",
       "      <td>False</td>\n",
       "      <td>True</td>\n",
       "      <td>False</td>\n",
       "    </tr>\n",
       "    <tr>\n",
       "      <th>1</th>\n",
       "      <td>12282.0</td>\n",
       "      <td>0.08</td>\n",
       "      <td>504</td>\n",
       "      <td>False</td>\n",
       "      <td>True</td>\n",
       "      <td>False</td>\n",
       "      <td>False</td>\n",
       "      <td>False</td>\n",
       "      <td>False</td>\n",
       "    </tr>\n",
       "    <tr>\n",
       "      <th>2</th>\n",
       "      <td>12438.0</td>\n",
       "      <td>0.44</td>\n",
       "      <td>635</td>\n",
       "      <td>False</td>\n",
       "      <td>False</td>\n",
       "      <td>False</td>\n",
       "      <td>True</td>\n",
       "      <td>False</td>\n",
       "      <td>False</td>\n",
       "    </tr>\n",
       "    <tr>\n",
       "      <th>3</th>\n",
       "      <td>79753.0</td>\n",
       "      <td>0.44</td>\n",
       "      <td>675</td>\n",
       "      <td>False</td>\n",
       "      <td>False</td>\n",
       "      <td>False</td>\n",
       "      <td>True</td>\n",
       "      <td>False</td>\n",
       "      <td>False</td>\n",
       "    </tr>\n",
       "    <tr>\n",
       "      <th>4</th>\n",
       "      <td>66135.0</td>\n",
       "      <td>0.53</td>\n",
       "      <td>586</td>\n",
       "      <td>False</td>\n",
       "      <td>False</td>\n",
       "      <td>False</td>\n",
       "      <td>True</td>\n",
       "      <td>False</td>\n",
       "      <td>False</td>\n",
       "    </tr>\n",
       "    <tr>\n",
       "      <th>...</th>\n",
       "      <td>...</td>\n",
       "      <td>...</td>\n",
       "      <td>...</td>\n",
       "      <td>...</td>\n",
       "      <td>...</td>\n",
       "      <td>...</td>\n",
       "      <td>...</td>\n",
       "      <td>...</td>\n",
       "      <td>...</td>\n",
       "    </tr>\n",
       "    <tr>\n",
       "      <th>44995</th>\n",
       "      <td>47971.0</td>\n",
       "      <td>0.31</td>\n",
       "      <td>645</td>\n",
       "      <td>False</td>\n",
       "      <td>False</td>\n",
       "      <td>False</td>\n",
       "      <td>True</td>\n",
       "      <td>False</td>\n",
       "      <td>False</td>\n",
       "    </tr>\n",
       "    <tr>\n",
       "      <th>44996</th>\n",
       "      <td>65800.0</td>\n",
       "      <td>0.14</td>\n",
       "      <td>621</td>\n",
       "      <td>False</td>\n",
       "      <td>False</td>\n",
       "      <td>True</td>\n",
       "      <td>False</td>\n",
       "      <td>False</td>\n",
       "      <td>False</td>\n",
       "    </tr>\n",
       "    <tr>\n",
       "      <th>44997</th>\n",
       "      <td>56942.0</td>\n",
       "      <td>0.05</td>\n",
       "      <td>668</td>\n",
       "      <td>True</td>\n",
       "      <td>False</td>\n",
       "      <td>False</td>\n",
       "      <td>False</td>\n",
       "      <td>False</td>\n",
       "      <td>False</td>\n",
       "    </tr>\n",
       "    <tr>\n",
       "      <th>44998</th>\n",
       "      <td>33164.0</td>\n",
       "      <td>0.36</td>\n",
       "      <td>604</td>\n",
       "      <td>False</td>\n",
       "      <td>True</td>\n",
       "      <td>False</td>\n",
       "      <td>False</td>\n",
       "      <td>False</td>\n",
       "      <td>False</td>\n",
       "    </tr>\n",
       "    <tr>\n",
       "      <th>44999</th>\n",
       "      <td>51609.0</td>\n",
       "      <td>0.13</td>\n",
       "      <td>628</td>\n",
       "      <td>True</td>\n",
       "      <td>False</td>\n",
       "      <td>False</td>\n",
       "      <td>False</td>\n",
       "      <td>False</td>\n",
       "      <td>False</td>\n",
       "    </tr>\n",
       "  </tbody>\n",
       "</table>\n",
       "<p>45000 rows × 9 columns</p>\n",
       "</div>"
      ],
      "text/plain": [
       "       person_income  loan_percent_income  credit_score  \\\n",
       "0            71948.0                 0.49           561   \n",
       "1            12282.0                 0.08           504   \n",
       "2            12438.0                 0.44           635   \n",
       "3            79753.0                 0.44           675   \n",
       "4            66135.0                 0.53           586   \n",
       "...              ...                  ...           ...   \n",
       "44995        47971.0                 0.31           645   \n",
       "44996        65800.0                 0.14           621   \n",
       "44997        56942.0                 0.05           668   \n",
       "44998        33164.0                 0.36           604   \n",
       "44999        51609.0                 0.13           628   \n",
       "\n",
       "       loan_intent_DEBTCONSOLIDATION  loan_intent_EDUCATION  \\\n",
       "0                              False                  False   \n",
       "1                              False                   True   \n",
       "2                              False                  False   \n",
       "3                              False                  False   \n",
       "4                              False                  False   \n",
       "...                              ...                    ...   \n",
       "44995                          False                  False   \n",
       "44996                          False                  False   \n",
       "44997                           True                  False   \n",
       "44998                          False                   True   \n",
       "44999                           True                  False   \n",
       "\n",
       "       loan_intent_HOMEIMPROVEMENT  loan_intent_MEDICAL  loan_intent_PERSONAL  \\\n",
       "0                            False                False                  True   \n",
       "1                            False                False                 False   \n",
       "2                            False                 True                 False   \n",
       "3                            False                 True                 False   \n",
       "4                            False                 True                 False   \n",
       "...                            ...                  ...                   ...   \n",
       "44995                        False                 True                 False   \n",
       "44996                         True                False                 False   \n",
       "44997                        False                False                 False   \n",
       "44998                        False                False                 False   \n",
       "44999                        False                False                 False   \n",
       "\n",
       "       loan_intent_VENTURE  \n",
       "0                    False  \n",
       "1                    False  \n",
       "2                    False  \n",
       "3                    False  \n",
       "4                    False  \n",
       "...                    ...  \n",
       "44995                False  \n",
       "44996                False  \n",
       "44997                False  \n",
       "44998                False  \n",
       "44999                False  \n",
       "\n",
       "[45000 rows x 9 columns]"
      ]
     },
     "execution_count": 7,
     "metadata": {},
     "output_type": "execute_result"
    }
   ],
   "source": [
    "df.drop(\"loan_status\", axis=1)"
   ]
  },
  {
   "cell_type": "code",
   "execution_count": 6,
   "id": "314ef3d7",
   "metadata": {},
   "outputs": [
    {
     "name": "stdout",
     "output_type": "stream",
     "text": [
      "float32\n",
      "tensor([[7.1948e+04, 4.9000e-01, 5.6100e+02,  ..., 0.0000e+00, 1.0000e+00,\n",
      "         0.0000e+00],\n",
      "        [1.2282e+04, 8.0000e-02, 5.0400e+02,  ..., 0.0000e+00, 0.0000e+00,\n",
      "         0.0000e+00],\n",
      "        [1.2438e+04, 4.4000e-01, 6.3500e+02,  ..., 1.0000e+00, 0.0000e+00,\n",
      "         0.0000e+00],\n",
      "        ...,\n",
      "        [5.6942e+04, 5.0000e-02, 6.6800e+02,  ..., 0.0000e+00, 0.0000e+00,\n",
      "         0.0000e+00],\n",
      "        [3.3164e+04, 3.6000e-01, 6.0400e+02,  ..., 0.0000e+00, 0.0000e+00,\n",
      "         0.0000e+00],\n",
      "        [5.1609e+04, 1.3000e-01, 6.2800e+02,  ..., 0.0000e+00, 0.0000e+00,\n",
      "         0.0000e+00]])\n"
     ]
    }
   ],
   "source": [
    "X_data = df.drop(\"loan_status\", axis=1).astype('float32').values\n",
    "print(X_data.dtype)\n",
    "X = torch.tensor(X_data, dtype=torch.float32)\n",
    "print(X)\n"
   ]
  }
 ],
 "metadata": {
  "kernelspec": {
   "display_name": "pytorch",
   "language": "python",
   "name": "python3"
  },
  "language_info": {
   "codemirror_mode": {
    "name": "ipython",
    "version": 3
   },
   "file_extension": ".py",
   "mimetype": "text/x-python",
   "name": "python",
   "nbconvert_exporter": "python",
   "pygments_lexer": "ipython3",
   "version": "3.11.13"
  }
 },
 "nbformat": 4,
 "nbformat_minor": 5
}
